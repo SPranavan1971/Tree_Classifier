{
 "cells": [
  {
   "cell_type": "markdown",
   "id": "632460ab-3fc3-4526-b2ff-1fd97004cb3c",
   "metadata": {},
   "source": [
    "This is the initial stage of treeClassifier."
   ]
  },
  {
   "cell_type": "code",
   "execution_count": 1,
   "id": "5dadf73c-3cf5-4c5e-8149-c06616d68a16",
   "metadata": {},
   "outputs": [],
   "source": [
    "import pandas as pd\n",
    "import numpy as np\n",
    "from sklearn.model_selection import train_test_split\n",
    "from keras.models import Sequential\n",
    "from keras.layers import Dense\n",
    "from keras.utils import to_categorical\n",
    "from sklearn.preprocessing import OneHotEncoder\n",
    "from sklearn.preprocessing import LabelEncoder"
   ]
  },
  {
   "cell_type": "code",
   "execution_count": 2,
   "id": "7196e132-c768-4c94-b284-2f25e82ffff1",
   "metadata": {},
   "outputs": [],
   "source": [
    "# Load data from CSV file\n",
    "file_path = r'C:\\Users\\spthe\\OneDrive\\Desktop\\TreeDataSet.csv'  # Update with the correct file path\n",
    "data = pd.read_csv(file_path)"
   ]
  },
  {
   "cell_type": "code",
   "execution_count": 3,
   "id": "2f746dbc-507a-4220-b40b-e7b36e9c21ad",
   "metadata": {},
   "outputs": [],
   "source": [
    "# Adjust column names\n",
    "data.columns = ['TreeSpecies', 'Ratio', 'Angle']"
   ]
  },
  {
   "cell_type": "code",
   "execution_count": 4,
   "id": "a62acdf1-ab9d-4b50-bf9a-451df8e626ea",
   "metadata": {},
   "outputs": [
    {
     "name": "stdout",
     "output_type": "stream",
     "text": [
      "Data types in features (X):\n",
      "Ratio    float64\n",
      "Angle      int64\n",
      "dtype: object\n",
      "Data type in labels (y):\n",
      "object\n"
     ]
    }
   ],
   "source": [
    "# Check for data types in features and labels (for debugging)\n",
    "print(\"Data types in features (X):\")\n",
    "print(data[[ 'Ratio', 'Angle']].dtypes)\n",
    "print(\"Data type in labels (y):\")\n",
    "print(data['TreeSpecies'].dtype)"
   ]
  },
  {
   "cell_type": "code",
   "execution_count": 5,
   "id": "b7d25682-e89c-4e5b-9481-bc296d7a9a7c",
   "metadata": {},
   "outputs": [],
   "source": [
    "# Prepare features and labels\n",
    "# Select features excluding column names\n",
    "X = data[['Ratio', 'Angle']]"
   ]
  },
  {
   "cell_type": "code",
   "execution_count": 6,
   "id": "cf50cc54-5d22-4be1-adfa-e69b64c9c861",
   "metadata": {},
   "outputs": [],
   "source": [
    "# Attempt to convert features to numerics (assuming numerical data)\n",
    "X = X.apply(pd.to_numeric, errors='coerce').values"
   ]
  },
  {
   "cell_type": "code",
   "execution_count": 7,
   "id": "27148341-eee3-4657-b55b-3ed5a16064cb",
   "metadata": {},
   "outputs": [],
   "source": [
    "# Encode labels into integers (assuming categorical labels)\n",
    "label_encoder = LabelEncoder()\n",
    "y = label_encoder.fit_transform(data['TreeSpecies'].values)"
   ]
  },
  {
   "cell_type": "code",
   "execution_count": 8,
   "id": "7fea174d-8c0b-43c3-9529-19593ea312e7",
   "metadata": {},
   "outputs": [
    {
     "name": "stdout",
     "output_type": "stream",
     "text": [
      "Number of unique classes after label encoding: 3\n"
     ]
    }
   ],
   "source": [
    "# Check the number of unique classes after label encoding (for debugging)\n",
    "print(\"Number of unique classes after label encoding:\", len(label_encoder.classes_))"
   ]
  },
  {
   "cell_type": "code",
   "execution_count": 9,
   "id": "c4b40da3-da91-49f2-9f3d-f7e3c20d4637",
   "metadata": {},
   "outputs": [],
   "source": [
    "# Convert labels to categorical (one-hot encoding)\n",
    "encoder = OneHotEncoder(sparse=False)\n",
    "y = encoder.fit_transform(y.reshape(-1, 1))  # Reshape for compatibility"
   ]
  },
  {
   "cell_type": "code",
   "execution_count": 10,
   "id": "e7cbf8b6-b029-4685-938c-4013d42a5428",
   "metadata": {},
   "outputs": [
    {
     "name": "stdout",
     "output_type": "stream",
     "text": [
      "Shape of encoded labels (y): (90, 3)\n"
     ]
    }
   ],
   "source": [
    "# Check the shape of the encoded labels (for debugging)\n",
    "print(\"Shape of encoded labels (y):\", y.shape)"
   ]
  },
  {
   "cell_type": "code",
   "execution_count": 11,
   "id": "409a9cbb-0f73-47d1-b7f3-62cbd8dd4845",
   "metadata": {},
   "outputs": [],
   "source": [
    "# Split data into training and testing sets\n",
    "X_train, X_test, y_train, y_test = train_test_split(X, y, test_size=0.2, random_state=3)"
   ]
  },
  {
   "cell_type": "code",
   "execution_count": 12,
   "id": "d448147e-1bc7-4a48-923a-54c5b39f89b7",
   "metadata": {},
   "outputs": [
    {
     "name": "stdout",
     "output_type": "stream",
     "text": [
      "Shape of training features (X_train): (72, 2)\n"
     ]
    }
   ],
   "source": [
    "# Print the shape of training features (for debugging)\n",
    "print(\"Shape of training features (X_train):\", X_train.shape)"
   ]
  },
  {
   "cell_type": "code",
   "execution_count": 13,
   "id": "ed3a01d2-1e57-45b9-8535-df2acbeafd5d",
   "metadata": {},
   "outputs": [],
   "source": [
    "from keras.models import Model\n",
    "from keras.layers import Input, Dense\n",
    "\n",
    "# Define the input layer with shape (2,)\n",
    "input_layer = Input(shape=(2,))\n",
    "\n",
    "# Define the layers of the model\n",
    "hidden_layer1 = Dense(units=30, activation='relu')(input_layer) # First hidden layer with 30 units and ReLU activation\n",
    "hidden_layer2 = Dense(units=30, activation='relu')(hidden_layer1) # Second hidden layer with 30 units and ReLU activation\n",
    "output_layer = Dense(units=3, activation='softmax')(hidden_layer2) # Output layer with 5 units and softmax activation\n",
    "\n",
    "# Define the model\n",
    "custom_model = Model(inputs=input_layer, outputs=output_layer) # Creating a model with specified input and output layers"
   ]
  },
  {
   "cell_type": "code",
   "execution_count": 14,
   "id": "c9320cf5-572e-405c-bd05-10e7f500723e",
   "metadata": {},
   "outputs": [],
   "source": [
    "# Compile the model\n",
    "custom_model.compile(optimizer='adam',\n",
    "                     loss='categorical_crossentropy',\n",
    "                     metrics=['accuracy'])"
   ]
  },
  {
   "cell_type": "code",
   "execution_count": 15,
   "id": "e7c065f8-0661-4956-9e91-d25ca6d2d0be",
   "metadata": {},
   "outputs": [
    {
     "name": "stdout",
     "output_type": "stream",
     "text": [
      "Epoch 1/5\n",
      "3/3 [==============================] - 1s 9ms/step - loss: 12.5837 - accuracy: 0.3611\n",
      "Epoch 2/5\n",
      "3/3 [==============================] - 0s 5ms/step - loss: 9.4147 - accuracy: 0.3611\n",
      "Epoch 3/5\n",
      "3/3 [==============================] - 0s 5ms/step - loss: 6.4060 - accuracy: 0.3611\n",
      "Epoch 4/5\n",
      "3/3 [==============================] - 0s 4ms/step - loss: 4.6897 - accuracy: 0.3333\n",
      "Epoch 5/5\n",
      "3/3 [==============================] - 0s 4ms/step - loss: 4.0990 - accuracy: 0.3333\n"
     ]
    },
    {
     "data": {
      "text/plain": [
       "<keras.callbacks.History at 0x222d02185e0>"
      ]
     },
     "execution_count": 15,
     "metadata": {},
     "output_type": "execute_result"
    }
   ],
   "source": [
    "# Train the model with the reshaped input data\n",
    "custom_model.fit(X_train, y_train, epochs=5, batch_size=30)"
   ]
  },
  {
   "cell_type": "code",
   "execution_count": 16,
   "id": "0356928b-0fa0-447e-bece-adc5626c3ed6",
   "metadata": {},
   "outputs": [
    {
     "name": "stdout",
     "output_type": "stream",
     "text": [
      "1/1 [==============================] - 0s 114ms/step\n"
     ]
    }
   ],
   "source": [
    "# Make predictions on the testing set\n",
    "y_pred = custom_model.predict(X_test)\n",
    "\n",
    "# Convert one-hot encoded predictions to class labels (optional)\n",
    "y_pred_classes = np.argmax(y_pred, axis=1)"
   ]
  },
  {
   "cell_type": "code",
   "execution_count": 17,
   "id": "24f9055f-b4d1-4ec7-bbd1-783b549df995",
   "metadata": {},
   "outputs": [
    {
     "name": "stdout",
     "output_type": "stream",
     "text": [
      "1/1 [==============================] - 0s 307ms/step - loss: 4.6506 - accuracy: 0.3333\n",
      "Test accuracy: 0.3333333432674408\n"
     ]
    }
   ],
   "source": [
    "# Evaluate the model\n",
    "test_loss, test_acc = custom_model.evaluate(X_test, y_test)\n",
    "print('Test accuracy:', test_acc)"
   ]
  },
  {
   "cell_type": "markdown",
   "id": "3ec78087-44e4-483c-964c-5b5da8f995d8",
   "metadata": {},
   "source": [
    "\n",
    "Now I get \"0.3\" as accuracy, so I change the optimizer as \"rmsprop\" and observe the change.\n",
    "\n",
    "I start the procedure from beginning."
   ]
  },
  {
   "cell_type": "code",
   "execution_count": 18,
   "id": "8ca27f92-6d9a-4908-b971-ca449aced287",
   "metadata": {},
   "outputs": [],
   "source": [
    "import pandas as pd\n",
    "import numpy as np\n",
    "from sklearn.model_selection import train_test_split\n",
    "from keras.models import Sequential\n",
    "from keras.layers import Dense\n",
    "from keras.utils import to_categorical\n",
    "from sklearn.preprocessing import OneHotEncoder\n",
    "from sklearn.preprocessing import LabelEncoder"
   ]
  },
  {
   "cell_type": "code",
   "execution_count": 19,
   "id": "50d302b1-4f88-4406-ad0c-0e305db6ae13",
   "metadata": {},
   "outputs": [],
   "source": [
    "# Load data from CSV file\n",
    "file_path = r'C:\\Users\\spthe\\OneDrive\\Desktop\\TreeDataSet.csv'  # Update with the correct file path\n",
    "data = pd.read_csv(file_path)"
   ]
  },
  {
   "cell_type": "code",
   "execution_count": 20,
   "id": "53456dc9-30a3-4b8a-ba34-d6c77aea443a",
   "metadata": {},
   "outputs": [],
   "source": [
    "# Adjust column names\n",
    "data.columns = ['TreeSpecies', 'Ratio', 'Angle']"
   ]
  },
  {
   "cell_type": "code",
   "execution_count": 21,
   "id": "62221b15-95b0-4809-8cf1-ebba8b863a37",
   "metadata": {},
   "outputs": [
    {
     "name": "stdout",
     "output_type": "stream",
     "text": [
      "Data types in features (X):\n",
      "Ratio    float64\n",
      "Angle      int64\n",
      "dtype: object\n",
      "Data type in labels (y):\n",
      "object\n"
     ]
    }
   ],
   "source": [
    "# Check for data types in features and labels (for debugging)\n",
    "print(\"Data types in features (X):\")\n",
    "print(data[[ 'Ratio', 'Angle']].dtypes)\n",
    "print(\"Data type in labels (y):\")\n",
    "print(data['TreeSpecies'].dtype)"
   ]
  },
  {
   "cell_type": "code",
   "execution_count": 22,
   "id": "0c51b972-5852-408c-b99c-8c4badb36173",
   "metadata": {},
   "outputs": [],
   "source": [
    "# Prepare features and labels\n",
    "# Select features excluding column names\n",
    "X = data[['Ratio', 'Angle']]"
   ]
  },
  {
   "cell_type": "code",
   "execution_count": 23,
   "id": "16514a1e-889b-4c10-90a7-7218a63cced7",
   "metadata": {},
   "outputs": [],
   "source": [
    "# Attempt to convert features to numerics (assuming numerical data)\n",
    "X = X.apply(pd.to_numeric, errors='coerce').values"
   ]
  },
  {
   "cell_type": "code",
   "execution_count": 24,
   "id": "3c854295-53e6-449e-b9d0-4e47540fdad8",
   "metadata": {},
   "outputs": [],
   "source": [
    "# Encode labels into integers (assuming categorical labels)\n",
    "label_encoder = LabelEncoder()\n",
    "y = label_encoder.fit_transform(data['TreeSpecies'].values)"
   ]
  },
  {
   "cell_type": "code",
   "execution_count": 25,
   "id": "bdc10aa9-2720-4550-8b1c-ec35f381eb07",
   "metadata": {},
   "outputs": [
    {
     "name": "stdout",
     "output_type": "stream",
     "text": [
      "Number of unique classes after label encoding: 3\n"
     ]
    }
   ],
   "source": [
    "# Check the number of unique classes after label encoding (for debugging)\n",
    "print(\"Number of unique classes after label encoding:\", len(label_encoder.classes_))"
   ]
  },
  {
   "cell_type": "code",
   "execution_count": 26,
   "id": "5b6005d4-9494-442f-ba49-c75e6df772a3",
   "metadata": {},
   "outputs": [],
   "source": [
    "# Convert labels to categorical (one-hot encoding)\n",
    "encoder = OneHotEncoder(sparse=False)\n",
    "y = encoder.fit_transform(y.reshape(-1, 1))  # Reshape for compatibility"
   ]
  },
  {
   "cell_type": "code",
   "execution_count": 27,
   "id": "6f0a2799-b3d7-4ed1-a383-a91b948354d0",
   "metadata": {},
   "outputs": [
    {
     "name": "stdout",
     "output_type": "stream",
     "text": [
      "Shape of encoded labels (y): (90, 3)\n"
     ]
    }
   ],
   "source": [
    "# Check the shape of the encoded labels (for debugging)\n",
    "print(\"Shape of encoded labels (y):\", y.shape)"
   ]
  },
  {
   "cell_type": "code",
   "execution_count": 28,
   "id": "6b528639-7f15-420b-a564-91cb73038a86",
   "metadata": {},
   "outputs": [],
   "source": [
    "# Split data into training and testing sets\n",
    "X_train, X_test, y_train, y_test = train_test_split(X, y, test_size=0.2, random_state=3)"
   ]
  },
  {
   "cell_type": "code",
   "execution_count": 29,
   "id": "e9b49ee1-ca32-4a70-b97a-5d30d5309e20",
   "metadata": {},
   "outputs": [
    {
     "name": "stdout",
     "output_type": "stream",
     "text": [
      "Shape of training features (X_train): (72, 2)\n"
     ]
    }
   ],
   "source": [
    "# Print the shape of training features (for debugging)\n",
    "print(\"Shape of training features (X_train):\", X_train.shape)"
   ]
  },
  {
   "cell_type": "code",
   "execution_count": 30,
   "id": "8d0e8cea-cba7-412e-b33c-7d28089b1f74",
   "metadata": {},
   "outputs": [],
   "source": [
    "from keras.models import Model\n",
    "from keras.layers import Input, Dense\n",
    "\n",
    "# Define the input layer with shape (2,)\n",
    "input_layer = Input(shape=(2,))\n",
    "\n",
    "# Define the layers of the model\n",
    "hidden_layer1 = Dense(units=30, activation='relu')(input_layer) # First hidden layer with 30 units and ReLU activation\n",
    "hidden_layer2 = Dense(units=30, activation='relu')(hidden_layer1) # Second hidden layer with 30 units and ReLU activation\n",
    "output_layer = Dense(units=3, activation='softmax')(hidden_layer2) # Output layer with 5 units and softmax activation\n",
    "\n",
    "# Define the model\n",
    "custom_model = Model(inputs=input_layer, outputs=output_layer) # Creating a model with specified input and output layers"
   ]
  },
  {
   "cell_type": "code",
   "execution_count": 31,
   "id": "8f6e9bb7-9f97-4dc1-86be-5fc48f6411ba",
   "metadata": {},
   "outputs": [],
   "source": [
    "# Compile the model\n",
    "custom_model.compile(optimizer='rmsprop',\n",
    "                     loss='categorical_crossentropy',\n",
    "                     metrics=['accuracy'])"
   ]
  },
  {
   "cell_type": "code",
   "execution_count": 32,
   "id": "1a25412a-5625-4bc8-830d-ed7729714676",
   "metadata": {},
   "outputs": [
    {
     "name": "stdout",
     "output_type": "stream",
     "text": [
      "Epoch 1/5\n",
      "3/3 [==============================] - 1s 1ms/step - loss: 2.2666 - accuracy: 0.3333\n",
      "Epoch 2/5\n",
      "3/3 [==============================] - 0s 5ms/step - loss: 1.1795 - accuracy: 0.5000\n",
      "Epoch 3/5\n",
      "3/3 [==============================] - 0s 3ms/step - loss: 0.8988 - accuracy: 0.6389\n",
      "Epoch 4/5\n",
      "3/3 [==============================] - 0s 2ms/step - loss: 1.3032 - accuracy: 0.5278\n",
      "Epoch 5/5\n",
      "3/3 [==============================] - 0s 4ms/step - loss: 1.0725 - accuracy: 0.5000\n"
     ]
    },
    {
     "data": {
      "text/plain": [
       "<keras.callbacks.History at 0x222d36cf880>"
      ]
     },
     "execution_count": 32,
     "metadata": {},
     "output_type": "execute_result"
    }
   ],
   "source": [
    "# Train the model with the reshaped input data\n",
    "custom_model.fit(X_train, y_train, epochs=5, batch_size=30)"
   ]
  },
  {
   "cell_type": "code",
   "execution_count": 33,
   "id": "49596fdf-78a5-41f9-bccf-a83b17994526",
   "metadata": {},
   "outputs": [
    {
     "name": "stdout",
     "output_type": "stream",
     "text": [
      "1/1 [==============================] - 0s 221ms/step\n"
     ]
    }
   ],
   "source": [
    "# Make predictions on the testing set\n",
    "y_pred = custom_model.predict(X_test)\n",
    "\n",
    "# Convert one-hot encoded predictions to class labels (optional)\n",
    "y_pred_classes = np.argmax(y_pred, axis=1)"
   ]
  },
  {
   "cell_type": "code",
   "execution_count": 34,
   "id": "e7302232-5032-4d8b-b993-fb866b825b66",
   "metadata": {},
   "outputs": [
    {
     "name": "stdout",
     "output_type": "stream",
     "text": [
      "1/1 [==============================] - 0s 266ms/step - loss: 0.7714 - accuracy: 0.6667\n",
      "Test accuracy: 0.6666666865348816\n"
     ]
    }
   ],
   "source": [
    "# Evaluate the model\n",
    "test_loss, test_acc = custom_model.evaluate(X_test, y_test)\n",
    "print('Test accuracy:', test_acc)"
   ]
  },
  {
   "cell_type": "markdown",
   "id": "12903467-1eb9-419d-8ff4-035f85f46db3",
   "metadata": {},
   "source": [
    "\n",
    "I get the positive result model accuracy Now it was increased as \"0.6\".\n",
    "\n",
    "So I keep the optimizer as \"rmsprop\".\n",
    "\n",
    "Now I change the \"activation='softmax'\" as \"activation='sigmoid'\" and observe the change.\n",
    "\n",
    "I start the procedure from beginning."
   ]
  },
  {
   "cell_type": "code",
   "execution_count": 35,
   "id": "969f9ce2-f4c1-44de-85f3-d3fc62f9f348",
   "metadata": {},
   "outputs": [],
   "source": [
    "import pandas as pd\n",
    "import numpy as np\n",
    "from sklearn.model_selection import train_test_split\n",
    "from keras.models import Sequential\n",
    "from keras.layers import Dense\n",
    "from keras.utils import to_categorical\n",
    "from sklearn.preprocessing import OneHotEncoder\n",
    "from sklearn.preprocessing import LabelEncoder"
   ]
  },
  {
   "cell_type": "code",
   "execution_count": 36,
   "id": "a544024e-5a0e-49cb-901d-7f2107acd4bd",
   "metadata": {},
   "outputs": [],
   "source": [
    "# Load data from CSV file\n",
    "file_path = r'C:\\Users\\spthe\\OneDrive\\Desktop\\TreeDataSet.csv'  # Update with the correct file path\n",
    "data = pd.read_csv(file_path)"
   ]
  },
  {
   "cell_type": "code",
   "execution_count": 37,
   "id": "96f9062d-bcc5-413d-8c71-ff23af5212ee",
   "metadata": {},
   "outputs": [],
   "source": [
    "# Adjust column names\n",
    "data.columns = ['TreeSpecies', 'Ratio', 'Angle']"
   ]
  },
  {
   "cell_type": "code",
   "execution_count": 38,
   "id": "13ec90b3-49b6-4817-a845-66b936896092",
   "metadata": {},
   "outputs": [
    {
     "name": "stdout",
     "output_type": "stream",
     "text": [
      "Data types in features (X):\n",
      "Ratio    float64\n",
      "Angle      int64\n",
      "dtype: object\n",
      "Data type in labels (y):\n",
      "object\n"
     ]
    }
   ],
   "source": [
    "# Check for data types in features and labels (for debugging)\n",
    "print(\"Data types in features (X):\")\n",
    "print(data[[ 'Ratio', 'Angle']].dtypes)\n",
    "print(\"Data type in labels (y):\")\n",
    "print(data['TreeSpecies'].dtype)"
   ]
  },
  {
   "cell_type": "code",
   "execution_count": 39,
   "id": "df3faa24-ce3a-443f-b6b2-021b7d0affb2",
   "metadata": {},
   "outputs": [],
   "source": [
    "# Prepare features and labels\n",
    "# Select features excluding column names\n",
    "X = data[['Ratio', 'Angle']]"
   ]
  },
  {
   "cell_type": "code",
   "execution_count": 40,
   "id": "e2508655-7549-4fa5-971f-b5b68f0e6c1f",
   "metadata": {},
   "outputs": [],
   "source": [
    "# Attempt to convert features to numerics (assuming numerical data)\n",
    "X = X.apply(pd.to_numeric, errors='coerce').values"
   ]
  },
  {
   "cell_type": "code",
   "execution_count": 41,
   "id": "8c0634be-f0c8-4723-ae59-492f703cc6a6",
   "metadata": {},
   "outputs": [],
   "source": [
    "# Encode labels into integers (assuming categorical labels)\n",
    "label_encoder = LabelEncoder()\n",
    "y = label_encoder.fit_transform(data['TreeSpecies'].values)"
   ]
  },
  {
   "cell_type": "code",
   "execution_count": 42,
   "id": "edf2eace-2925-4c76-a704-d6245e28e1d2",
   "metadata": {},
   "outputs": [
    {
     "name": "stdout",
     "output_type": "stream",
     "text": [
      "Number of unique classes after label encoding: 3\n"
     ]
    }
   ],
   "source": [
    "# Check the number of unique classes after label encoding (for debugging)\n",
    "print(\"Number of unique classes after label encoding:\", len(label_encoder.classes_))"
   ]
  },
  {
   "cell_type": "code",
   "execution_count": 43,
   "id": "2f0308a3-634b-42c3-b248-a526f8c54397",
   "metadata": {},
   "outputs": [],
   "source": [
    "# Convert labels to categorical (one-hot encoding)\n",
    "encoder = OneHotEncoder(sparse=False)\n",
    "y = encoder.fit_transform(y.reshape(-1, 1))  # Reshape for compatibility"
   ]
  },
  {
   "cell_type": "code",
   "execution_count": 44,
   "id": "203a25e3-fc85-4ef0-a687-3f4daf26dd05",
   "metadata": {},
   "outputs": [
    {
     "name": "stdout",
     "output_type": "stream",
     "text": [
      "Shape of encoded labels (y): (90, 3)\n"
     ]
    }
   ],
   "source": [
    "# Check the shape of the encoded labels (for debugging)\n",
    "print(\"Shape of encoded labels (y):\", y.shape)"
   ]
  },
  {
   "cell_type": "code",
   "execution_count": 45,
   "id": "73ec328a-bb05-4d37-b153-b7c3980b0b55",
   "metadata": {},
   "outputs": [],
   "source": [
    "# Split data into training and testing sets\n",
    "X_train, X_test, y_train, y_test = train_test_split(X, y, test_size=0.2, random_state=3)"
   ]
  },
  {
   "cell_type": "code",
   "execution_count": 46,
   "id": "4aa136c1-dbb5-4708-9c90-b9d0cedda123",
   "metadata": {},
   "outputs": [
    {
     "name": "stdout",
     "output_type": "stream",
     "text": [
      "Shape of training features (X_train): (72, 2)\n"
     ]
    }
   ],
   "source": [
    "# Print the shape of training features (for debugging)\n",
    "print(\"Shape of training features (X_train):\", X_train.shape)"
   ]
  },
  {
   "cell_type": "code",
   "execution_count": 47,
   "id": "247f94c2-7a31-45c7-ad6d-6cefba7d6eba",
   "metadata": {},
   "outputs": [],
   "source": [
    "from keras.models import Model\n",
    "from keras.layers import Input, Dense\n",
    "\n",
    "# Define the input layer with shape (2,)\n",
    "input_layer = Input(shape=(2,))\n",
    "\n",
    "# Define the layers of the model\n",
    "hidden_layer1 = Dense(units=30, activation='relu')(input_layer) # First hidden layer with 30 units and ReLU activation\n",
    "hidden_layer2 = Dense(units=30, activation='relu')(hidden_layer1) # Second hidden layer with 30 units and ReLU activation\n",
    "output_layer = Dense(units=3, activation='sigmoid')(hidden_layer2) # Output layer with 5 units and softmax activation\n",
    "\n",
    "# Define the model\n",
    "custom_model = Model(inputs=input_layer, outputs=output_layer) # Creating a model with specified input and output layers"
   ]
  },
  {
   "cell_type": "code",
   "execution_count": 48,
   "id": "f3198094-fffc-4ef6-8c99-043e85dbc4b7",
   "metadata": {},
   "outputs": [],
   "source": [
    "# Compile the model\n",
    "custom_model.compile(optimizer='rmsprop',\n",
    "                     loss='categorical_crossentropy',\n",
    "                     metrics=['accuracy'])"
   ]
  },
  {
   "cell_type": "code",
   "execution_count": 49,
   "id": "e2f8c4b9-e801-4177-a04c-f42c997ede68",
   "metadata": {},
   "outputs": [
    {
     "name": "stdout",
     "output_type": "stream",
     "text": [
      "Epoch 1/5\n",
      "3/3 [==============================] - 1s 5ms/step - loss: 7.3796 - accuracy: 0.3333\n",
      "Epoch 2/5\n",
      "3/3 [==============================] - 0s 5ms/step - loss: 5.9901 - accuracy: 0.2778\n",
      "Epoch 3/5\n",
      "3/3 [==============================] - 0s 5ms/step - loss: 5.4281 - accuracy: 0.2500\n",
      "Epoch 4/5\n",
      "3/3 [==============================] - 0s 6ms/step - loss: 4.7977 - accuracy: 0.2917\n",
      "Epoch 5/5\n",
      "3/3 [==============================] - 0s 1ms/step - loss: 4.2366 - accuracy: 0.3056\n"
     ]
    },
    {
     "data": {
      "text/plain": [
       "<keras.callbacks.History at 0x222d39f1af0>"
      ]
     },
     "execution_count": 49,
     "metadata": {},
     "output_type": "execute_result"
    }
   ],
   "source": [
    "# Train the model with the reshaped input data\n",
    "custom_model.fit(X_train, y_train, epochs=5, batch_size=30)"
   ]
  },
  {
   "cell_type": "code",
   "execution_count": 50,
   "id": "4d84c632-a375-4256-aa5b-4e10414b5cff",
   "metadata": {},
   "outputs": [
    {
     "name": "stdout",
     "output_type": "stream",
     "text": [
      "1/1 [==============================] - 0s 113ms/step\n"
     ]
    }
   ],
   "source": [
    "# Make predictions on the testing set\n",
    "y_pred = custom_model.predict(X_test)\n",
    "\n",
    "# Convert one-hot encoded predictions to class labels (optional)\n",
    "y_pred_classes = np.argmax(y_pred, axis=1)"
   ]
  },
  {
   "cell_type": "code",
   "execution_count": 51,
   "id": "8131aa1c-7a3b-4075-a82c-40d2707f3287",
   "metadata": {},
   "outputs": [
    {
     "name": "stdout",
     "output_type": "stream",
     "text": [
      "1/1 [==============================] - 0s 222ms/step - loss: 3.3759 - accuracy: 0.3333\n",
      "Test accuracy: 0.3333333432674408\n"
     ]
    }
   ],
   "source": [
    "# Evaluate the model\n",
    "test_loss, test_acc = custom_model.evaluate(X_test, y_test)\n",
    "print('Test accuracy:', test_acc)"
   ]
  },
  {
   "cell_type": "markdown",
   "id": "98a6f881-8471-4eaf-a92a-66f7d417797a",
   "metadata": {},
   "source": [
    "\n",
    "Now I get the Negative result, the model accuracy was decreased as \"0.3\"\n",
    "\n",
    "So I keep the \"activation='softmax'\"\n",
    "\n",
    "I change the \"hidden_layer1 = Dense(units=30\" as \"hidden_layer1 = Dense(units=60,\" and observe the changes."
   ]
  },
  {
   "cell_type": "code",
   "execution_count": 52,
   "id": "f531d431-4202-4ae6-87e9-37b6a22fc80a",
   "metadata": {},
   "outputs": [],
   "source": [
    "import pandas as pd\n",
    "import numpy as np\n",
    "from sklearn.model_selection import train_test_split\n",
    "from keras.models import Sequential\n",
    "from keras.layers import Dense\n",
    "from keras.utils import to_categorical\n",
    "from sklearn.preprocessing import OneHotEncoder\n",
    "from sklearn.preprocessing import LabelEncoder"
   ]
  },
  {
   "cell_type": "code",
   "execution_count": 53,
   "id": "29851b63-796c-4cf7-938b-60ee2940a7ee",
   "metadata": {},
   "outputs": [],
   "source": [
    "# Load data from CSV file\n",
    "file_path = r'C:\\Users\\spthe\\OneDrive\\Desktop\\TreeDataSet.csv'  # Update with the correct file path\n",
    "data = pd.read_csv(file_path)"
   ]
  },
  {
   "cell_type": "code",
   "execution_count": 54,
   "id": "e332a34c-79da-4bc2-b5ea-3720a452ed6c",
   "metadata": {},
   "outputs": [],
   "source": [
    "# Adjust column names\n",
    "data.columns = ['TreeSpecies', 'Ratio', 'Angle']"
   ]
  },
  {
   "cell_type": "code",
   "execution_count": 55,
   "id": "a3d509bc-7ea5-48ec-a35d-a70dac91d953",
   "metadata": {},
   "outputs": [
    {
     "name": "stdout",
     "output_type": "stream",
     "text": [
      "Data types in features (X):\n",
      "Ratio    float64\n",
      "Angle      int64\n",
      "dtype: object\n",
      "Data type in labels (y):\n",
      "object\n"
     ]
    }
   ],
   "source": [
    "# Check for data types in features and labels (for debugging)\n",
    "print(\"Data types in features (X):\")\n",
    "print(data[[ 'Ratio', 'Angle']].dtypes)\n",
    "print(\"Data type in labels (y):\")\n",
    "print(data['TreeSpecies'].dtype)"
   ]
  },
  {
   "cell_type": "code",
   "execution_count": 56,
   "id": "7ff59e24-0ae7-4dee-96d1-a52741c96895",
   "metadata": {},
   "outputs": [],
   "source": [
    "# Prepare features and labels\n",
    "# Select features excluding column names\n",
    "X = data[['Ratio', 'Angle']]"
   ]
  },
  {
   "cell_type": "code",
   "execution_count": 57,
   "id": "460c8abb-3bd9-428b-904b-2aa895260c1f",
   "metadata": {},
   "outputs": [],
   "source": [
    "# Attempt to convert features to numerics (assuming numerical data)\n",
    "X = X.apply(pd.to_numeric, errors='coerce').values"
   ]
  },
  {
   "cell_type": "code",
   "execution_count": 58,
   "id": "34abcd9b-1025-4107-847a-5354dd7f3ebf",
   "metadata": {},
   "outputs": [],
   "source": [
    "# Encode labels into integers (assuming categorical labels)\n",
    "label_encoder = LabelEncoder()\n",
    "y = label_encoder.fit_transform(data['TreeSpecies'].values)"
   ]
  },
  {
   "cell_type": "code",
   "execution_count": 59,
   "id": "7db5cb0a-00bc-4526-9db4-ed1480deb6b3",
   "metadata": {},
   "outputs": [
    {
     "name": "stdout",
     "output_type": "stream",
     "text": [
      "Number of unique classes after label encoding: 3\n"
     ]
    }
   ],
   "source": [
    "# Check the number of unique classes after label encoding (for debugging)\n",
    "print(\"Number of unique classes after label encoding:\", len(label_encoder.classes_))"
   ]
  },
  {
   "cell_type": "code",
   "execution_count": 60,
   "id": "81691ac5-d307-4476-a2bd-60c2c8e5a74a",
   "metadata": {},
   "outputs": [],
   "source": [
    "# Convert labels to categorical (one-hot encoding)\n",
    "encoder = OneHotEncoder(sparse=False)\n",
    "y = encoder.fit_transform(y.reshape(-1, 1))  # Reshape for compatibility"
   ]
  },
  {
   "cell_type": "code",
   "execution_count": 61,
   "id": "f098bc9e-e3da-4dc8-a64e-055d18312881",
   "metadata": {},
   "outputs": [
    {
     "name": "stdout",
     "output_type": "stream",
     "text": [
      "Shape of encoded labels (y): (90, 3)\n"
     ]
    }
   ],
   "source": [
    "# Check the shape of the encoded labels (for debugging)\n",
    "print(\"Shape of encoded labels (y):\", y.shape)"
   ]
  },
  {
   "cell_type": "code",
   "execution_count": 62,
   "id": "2419b65d-b83e-4f9f-8f66-17b84f87bbc0",
   "metadata": {},
   "outputs": [],
   "source": [
    "# Split data into training and testing sets\n",
    "X_train, X_test, y_train, y_test = train_test_split(X, y, test_size=0.2, random_state=3)"
   ]
  },
  {
   "cell_type": "code",
   "execution_count": 63,
   "id": "3d62594a-d302-419c-b755-002664c7619a",
   "metadata": {},
   "outputs": [
    {
     "name": "stdout",
     "output_type": "stream",
     "text": [
      "Shape of training features (X_train): (72, 2)\n"
     ]
    }
   ],
   "source": [
    "# Print the shape of training features (for debugging)\n",
    "print(\"Shape of training features (X_train):\", X_train.shape)"
   ]
  },
  {
   "cell_type": "code",
   "execution_count": 64,
   "id": "d762473f-f7ac-4682-a647-0eca9b211af3",
   "metadata": {},
   "outputs": [],
   "source": [
    "from keras.models import Model\n",
    "from keras.layers import Input, Dense\n",
    "\n",
    "# Define the input layer with shape (2,)\n",
    "input_layer = Input(shape=(2,))\n",
    "\n",
    "# Define the layers of the model\n",
    "hidden_layer1 = Dense(units=60, activation='relu')(input_layer) # First hidden layer with 30 units and ReLU activation\n",
    "hidden_layer2 = Dense(units=30, activation='relu')(hidden_layer1) # Second hidden layer with 30 units and ReLU activation\n",
    "output_layer = Dense(units=3, activation='softmax')(hidden_layer2) # Output layer with 5 units and softmax activation\n",
    "\n",
    "# Define the model\n",
    "custom_model = Model(inputs=input_layer, outputs=output_layer) # Creating a model with specified input and output layers"
   ]
  },
  {
   "cell_type": "code",
   "execution_count": 65,
   "id": "6e32e1da-0cb7-450e-9778-0bc0b0518831",
   "metadata": {},
   "outputs": [],
   "source": [
    "# Compile the model\n",
    "custom_model.compile(optimizer='rmsprop',\n",
    "                     loss='categorical_crossentropy',\n",
    "                     metrics=['accuracy'])"
   ]
  },
  {
   "cell_type": "code",
   "execution_count": 66,
   "id": "c66b7a17-fdbe-4d0d-8841-da14f29f766f",
   "metadata": {},
   "outputs": [
    {
     "name": "stdout",
     "output_type": "stream",
     "text": [
      "Epoch 1/5\n",
      "3/3 [==============================] - 1s 3ms/step - loss: 2.4155 - accuracy: 0.3194\n",
      "Epoch 2/5\n",
      "3/3 [==============================] - 0s 173us/step - loss: 1.1970 - accuracy: 0.2917\n",
      "Epoch 3/5\n",
      "3/3 [==============================] - 0s 3ms/step - loss: 1.2216 - accuracy: 0.3472\n",
      "Epoch 4/5\n",
      "3/3 [==============================] - 0s 2ms/step - loss: 0.9477 - accuracy: 0.3889\n",
      "Epoch 5/5\n",
      "3/3 [==============================] - 0s 5ms/step - loss: 0.9301 - accuracy: 0.4861\n"
     ]
    },
    {
     "data": {
      "text/plain": [
       "<keras.callbacks.History at 0x222d4fddcd0>"
      ]
     },
     "execution_count": 66,
     "metadata": {},
     "output_type": "execute_result"
    }
   ],
   "source": [
    "# Train the model with the reshaped input data\n",
    "custom_model.fit(X_train, y_train, epochs=5, batch_size=30)"
   ]
  },
  {
   "cell_type": "code",
   "execution_count": 67,
   "id": "0dc0aa0e-b8d0-4aa9-91e7-3dd5e5dd2a6f",
   "metadata": {},
   "outputs": [
    {
     "name": "stdout",
     "output_type": "stream",
     "text": [
      "1/1 [==============================] - 0s 60ms/step\n"
     ]
    }
   ],
   "source": [
    "# Make predictions on the testing set\n",
    "y_pred = custom_model.predict(X_test)\n",
    "\n",
    "# Convert one-hot encoded predictions to class labels (optional)\n",
    "y_pred_classes = np.argmax(y_pred, axis=1)"
   ]
  },
  {
   "cell_type": "code",
   "execution_count": 68,
   "id": "af7640c8-8b2b-4374-93e6-e2d8cb8eab32",
   "metadata": {},
   "outputs": [
    {
     "name": "stdout",
     "output_type": "stream",
     "text": [
      "1/1 [==============================] - 0s 130ms/step - loss: 0.9512 - accuracy: 0.3889\n",
      "Test accuracy: 0.3888888955116272\n"
     ]
    }
   ],
   "source": [
    "# Evaluate the model\n",
    "test_loss, test_acc = custom_model.evaluate(X_test, y_test)\n",
    "print('Test accuracy:', test_acc)"
   ]
  },
  {
   "cell_type": "markdown",
   "id": "cc42647a-8dc8-4f44-8735-3103d6fd8bc5",
   "metadata": {},
   "source": [
    "\n",
    "Now I get the positive result but not as same because in the previous procedure accuracy was\"0.66\". \n",
    "\n",
    "Now the accuracy was \"0.38\".\n",
    "\n",
    "I change the \"hidden_layer1 = Dense(units=60\" as \"hidden_layer1 = Dense(units=90,\" and observe the changes."
   ]
  },
  {
   "cell_type": "code",
   "execution_count": 69,
   "id": "d0c30647-8f40-4505-a53d-71886b722f18",
   "metadata": {},
   "outputs": [],
   "source": [
    "import pandas as pd\n",
    "import numpy as np\n",
    "from sklearn.model_selection import train_test_split\n",
    "from keras.models import Sequential\n",
    "from keras.layers import Dense\n",
    "from keras.utils import to_categorical\n",
    "from sklearn.preprocessing import OneHotEncoder\n",
    "from sklearn.preprocessing import LabelEncoder"
   ]
  },
  {
   "cell_type": "code",
   "execution_count": 70,
   "id": "b6aca034-a709-4eb3-8ca0-0fb9eddaa3cc",
   "metadata": {},
   "outputs": [],
   "source": [
    "# Load data from CSV file\n",
    "file_path = r'C:\\Users\\spthe\\OneDrive\\Desktop\\TreeDataSet.csv'  # Update with the correct file path\n",
    "data = pd.read_csv(file_path)"
   ]
  },
  {
   "cell_type": "code",
   "execution_count": 71,
   "id": "932662c3-c784-4057-bb7a-f5443193be8f",
   "metadata": {},
   "outputs": [],
   "source": [
    "# Adjust column names\n",
    "data.columns = ['TreeSpecies', 'Ratio', 'Angle']"
   ]
  },
  {
   "cell_type": "code",
   "execution_count": 72,
   "id": "ad795405-a97d-4dbf-843f-0d3772227d98",
   "metadata": {},
   "outputs": [
    {
     "name": "stdout",
     "output_type": "stream",
     "text": [
      "Data types in features (X):\n",
      "Ratio    float64\n",
      "Angle      int64\n",
      "dtype: object\n",
      "Data type in labels (y):\n",
      "object\n"
     ]
    }
   ],
   "source": [
    "# Check for data types in features and labels (for debugging)\n",
    "print(\"Data types in features (X):\")\n",
    "print(data[[ 'Ratio', 'Angle']].dtypes)\n",
    "print(\"Data type in labels (y):\")\n",
    "print(data['TreeSpecies'].dtype)"
   ]
  },
  {
   "cell_type": "code",
   "execution_count": 73,
   "id": "af56c8c5-8aac-4e9c-8ac9-c7ae02e4fa88",
   "metadata": {},
   "outputs": [],
   "source": [
    "# Prepare features and labels\n",
    "# Select features excluding column names\n",
    "X = data[['Ratio', 'Angle']]"
   ]
  },
  {
   "cell_type": "code",
   "execution_count": 74,
   "id": "38177bcc-6831-4cd9-b100-417db1f63dd9",
   "metadata": {},
   "outputs": [],
   "source": [
    "# Attempt to convert features to numerics (assuming numerical data)\n",
    "X = X.apply(pd.to_numeric, errors='coerce').values"
   ]
  },
  {
   "cell_type": "code",
   "execution_count": 75,
   "id": "427a1f49-45ca-406f-9bdb-c4bb9b82b90b",
   "metadata": {},
   "outputs": [],
   "source": [
    "# Encode labels into integers (assuming categorical labels)\n",
    "label_encoder = LabelEncoder()\n",
    "y = label_encoder.fit_transform(data['TreeSpecies'].values)"
   ]
  },
  {
   "cell_type": "code",
   "execution_count": 76,
   "id": "b7028609-a46d-48e5-86d9-03c0588a5f78",
   "metadata": {},
   "outputs": [
    {
     "name": "stdout",
     "output_type": "stream",
     "text": [
      "Number of unique classes after label encoding: 3\n"
     ]
    }
   ],
   "source": [
    "# Check the number of unique classes after label encoding (for debugging)\n",
    "print(\"Number of unique classes after label encoding:\", len(label_encoder.classes_))"
   ]
  },
  {
   "cell_type": "code",
   "execution_count": 77,
   "id": "776c385d-074d-4b97-9f80-7fb460d44338",
   "metadata": {},
   "outputs": [],
   "source": [
    "# Convert labels to categorical (one-hot encoding)\n",
    "encoder = OneHotEncoder(sparse=False)\n",
    "y = encoder.fit_transform(y.reshape(-1, 1))  # Reshape for compatibility"
   ]
  },
  {
   "cell_type": "code",
   "execution_count": 78,
   "id": "50ba9fb5-e7af-4857-b62b-954aab9aee15",
   "metadata": {},
   "outputs": [
    {
     "name": "stdout",
     "output_type": "stream",
     "text": [
      "Shape of encoded labels (y): (90, 3)\n"
     ]
    }
   ],
   "source": [
    "# Check the shape of the encoded labels (for debugging)\n",
    "print(\"Shape of encoded labels (y):\", y.shape)"
   ]
  },
  {
   "cell_type": "code",
   "execution_count": 79,
   "id": "ae931bb1-f800-4723-a2af-bb673f7a55a4",
   "metadata": {},
   "outputs": [],
   "source": [
    "# Split data into training and testing sets\n",
    "X_train, X_test, y_train, y_test = train_test_split(X, y, test_size=0.2, random_state=3)"
   ]
  },
  {
   "cell_type": "code",
   "execution_count": 80,
   "id": "55ae329d-6ba3-4700-8db4-db8cb916ee51",
   "metadata": {},
   "outputs": [
    {
     "name": "stdout",
     "output_type": "stream",
     "text": [
      "Shape of training features (X_train): (72, 2)\n"
     ]
    }
   ],
   "source": [
    "# Print the shape of training features (for debugging)\n",
    "print(\"Shape of training features (X_train):\", X_train.shape)"
   ]
  },
  {
   "cell_type": "code",
   "execution_count": 81,
   "id": "0eec726c-f145-4b44-a74e-9d394c7edfb0",
   "metadata": {},
   "outputs": [],
   "source": [
    "from keras.models import Model\n",
    "from keras.layers import Input, Dense\n",
    "\n",
    "# Define the input layer with shape (2,)\n",
    "input_layer = Input(shape=(2,))\n",
    "\n",
    "# Define the layers of the model\n",
    "hidden_layer1 = Dense(units=90, activation='relu')(input_layer) # First hidden layer with 30 units and ReLU activation\n",
    "hidden_layer2 = Dense(units=30, activation='relu')(hidden_layer1) # Second hidden layer with 30 units and ReLU activation\n",
    "output_layer = Dense(units=3, activation='softmax')(hidden_layer2) # Output layer with 5 units and softmax activation\n",
    "\n",
    "# Define the model\n",
    "custom_model = Model(inputs=input_layer, outputs=output_layer) # Creating a model with specified input and output layers"
   ]
  },
  {
   "cell_type": "code",
   "execution_count": 82,
   "id": "5e8e9fcc-a4b9-45eb-9d99-d3e82a6b81fc",
   "metadata": {},
   "outputs": [],
   "source": [
    "# Compile the model\n",
    "custom_model.compile(optimizer='rmsprop',\n",
    "                     loss='categorical_crossentropy',\n",
    "                     metrics=['accuracy'])"
   ]
  },
  {
   "cell_type": "code",
   "execution_count": 83,
   "id": "8d46712c-eee5-4948-bf1b-44fccc8711ff",
   "metadata": {},
   "outputs": [
    {
     "name": "stdout",
     "output_type": "stream",
     "text": [
      "Epoch 1/5\n",
      "3/3 [==============================] - 0s 8ms/step - loss: 3.0841 - accuracy: 0.4028\n",
      "Epoch 2/5\n",
      "3/3 [==============================] - 0s 0s/step - loss: 0.9814 - accuracy: 0.3333\n",
      "Epoch 3/5\n",
      "3/3 [==============================] - 0s 2ms/step - loss: 0.7340 - accuracy: 0.7639\n",
      "Epoch 4/5\n",
      "3/3 [==============================] - 0s 5ms/step - loss: 0.9909 - accuracy: 0.6528\n",
      "Epoch 5/5\n",
      "3/3 [==============================] - 0s 2ms/step - loss: 0.7007 - accuracy: 0.7222\n"
     ]
    },
    {
     "data": {
      "text/plain": [
       "<keras.callbacks.History at 0x222d63debb0>"
      ]
     },
     "execution_count": 83,
     "metadata": {},
     "output_type": "execute_result"
    }
   ],
   "source": [
    "# Train the model with the reshaped input data\n",
    "custom_model.fit(X_train, y_train, epochs=5, batch_size=30)"
   ]
  },
  {
   "cell_type": "code",
   "execution_count": 84,
   "id": "5a1719f3-56d7-4f73-acb1-b2ec6b3e1923",
   "metadata": {},
   "outputs": [
    {
     "name": "stdout",
     "output_type": "stream",
     "text": [
      "WARNING:tensorflow:5 out of the last 5 calls to <function Model.make_predict_function.<locals>.predict_function at 0x00000222D6644AF0> triggered tf.function retracing. Tracing is expensive and the excessive number of tracings could be due to (1) creating @tf.function repeatedly in a loop, (2) passing tensors with different shapes, (3) passing Python objects instead of tensors. For (1), please define your @tf.function outside of the loop. For (2), @tf.function has reduce_retracing=True option that can avoid unnecessary retracing. For (3), please refer to https://www.tensorflow.org/guide/function#controlling_retracing and https://www.tensorflow.org/api_docs/python/tf/function for  more details.\n",
      "1/1 [==============================] - 0s 62ms/step\n"
     ]
    }
   ],
   "source": [
    "# Make predictions on the testing set\n",
    "y_pred = custom_model.predict(X_test)\n",
    "\n",
    "# Convert one-hot encoded predictions to class labels (optional)\n",
    "y_pred_classes = np.argmax(y_pred, axis=1)"
   ]
  },
  {
   "cell_type": "code",
   "execution_count": 85,
   "id": "6f545a5d-6bae-44e6-bbad-1e0b3c158fdd",
   "metadata": {},
   "outputs": [
    {
     "name": "stdout",
     "output_type": "stream",
     "text": [
      "WARNING:tensorflow:5 out of the last 5 calls to <function Model.make_test_function.<locals>.test_function at 0x00000222D769A040> triggered tf.function retracing. Tracing is expensive and the excessive number of tracings could be due to (1) creating @tf.function repeatedly in a loop, (2) passing tensors with different shapes, (3) passing Python objects instead of tensors. For (1), please define your @tf.function outside of the loop. For (2), @tf.function has reduce_retracing=True option that can avoid unnecessary retracing. For (3), please refer to https://www.tensorflow.org/guide/function#controlling_retracing and https://www.tensorflow.org/api_docs/python/tf/function for  more details.\n",
      "1/1 [==============================] - 0s 135ms/step - loss: 1.0926 - accuracy: 0.4444\n",
      "Test accuracy: 0.4444444477558136\n"
     ]
    }
   ],
   "source": [
    "# Evaluate the model\n",
    "test_loss, test_acc = custom_model.evaluate(X_test, y_test)\n",
    "print('Test accuracy:', test_acc)"
   ]
  },
  {
   "cell_type": "markdown",
   "id": "91c8acd1-bc29-455c-bcd7-1b4a3c58f9b9",
   "metadata": {},
   "source": [
    "\n",
    "Now I get the positive result, the model accuracy was slightly increased as \"0.44\""
   ]
  }
 ],
 "metadata": {
  "kernelspec": {
   "display_name": "Python 3 (ipykernel)",
   "language": "python",
   "name": "python3"
  },
  "language_info": {
   "codemirror_mode": {
    "name": "ipython",
    "version": 3
   },
   "file_extension": ".py",
   "mimetype": "text/x-python",
   "name": "python",
   "nbconvert_exporter": "python",
   "pygments_lexer": "ipython3",
   "version": "3.9.18"
  }
 },
 "nbformat": 4,
 "nbformat_minor": 5
}
